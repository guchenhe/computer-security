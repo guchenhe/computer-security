{
 "cells": [
  {
   "cell_type": "code",
   "execution_count": 7,
   "metadata": {},
   "outputs": [
    {
     "name": "stdout",
     "output_type": "stream",
     "text": [
      "60\n"
     ]
    }
   ],
   "source": [
    "import ast\n",
    "\n",
    "class TrieNode:\n",
    "  def __init__(self, val='', next=None):\n",
    "    self.val = val\n",
    "    self.next = next\n",
    "  \n",
    "root = TrieNode('', {})\n",
    "for word in open('/usr/share/dict/words'):\n",
    "  curr = root\n",
    "  for letter in word.strip():\n",
    "    if letter.lower() not in curr.next:\n",
    "      curr.next[letter.lower()] = TrieNode(letter.lower(), {})\n",
    "    curr = curr.next[letter.lower()]\n",
    "  # end of word symbol\n",
    "  curr.next['*'] = TrieNode('*', {})\n",
    "  \n",
    "ciphers = [ast.literal_eval(word) for word in open('tenciphers.txt')]\n",
    "charspace = set()\n",
    "for i in range(65, 91):\n",
    "  charspace.add(i)\n",
    "for i in range(97, 123):\n",
    "  charspace.add(i)\n",
    "\n",
    "punctuations = set()\n",
    "# punctuations\n",
    "punctuations.update([32, 33, 34, 35, 39, 40, 41, 44, 46, 58, 59, 63])\n",
    "\n",
    "print(len(ciphers[0]))\n",
    "\n",
    "keyspace = []\n",
    "for i in range(0, 256):\n",
    "  for j in range(10):\n",
    "    for k in range(60):\n",
    "      if i ^ ciphers[j][k] in punctuations or i ^ ciphers[j][k] in charspace:\n",
    "        keyspace.append(i)\n",
    "    \n",
    "keys = []\n",
    "\n",
    "def is_key_valid(key, curr_nodes, index):\n",
    "  for (cipher, i) in ciphers:\n",
    "    decrypted_letter = key ^ cipher[index]\n",
    "    if decrypted_letter in curr_nodes[i].next and decrypted_letter != '*':\n",
    "      curr_nodes[i] = curr_nodes[i].next[decrypted_letter]\n",
    "    elif decrypted_letter in punctuations and '*' in curr_nodes[i].next:\n",
    "      curr_nodes[i] = root\n",
    "    else:\n",
    "      return False\n",
    "  return True\n",
    "\n",
    "# for i in index 0 to 61:\n",
    "# if i == 60 then add current key comb to keys\n",
    "# else:\n",
    "  \n",
    "  "
   ]
  }
 ],
 "metadata": {
  "interpreter": {
   "hash": "b0fa6594d8f4cbf19f97940f81e996739fb7646882a419484c72d19e05852a7e"
  },
  "kernelspec": {
   "display_name": "Python 3.10.6 64-bit",
   "language": "python",
   "name": "python3"
  },
  "language_info": {
   "codemirror_mode": {
    "name": "ipython",
    "version": 3
   },
   "file_extension": ".py",
   "mimetype": "text/x-python",
   "name": "python",
   "nbconvert_exporter": "python",
   "pygments_lexer": "ipython3",
   "version": "3.10.6"
  },
  "orig_nbformat": 4
 },
 "nbformat": 4,
 "nbformat_minor": 2
}
